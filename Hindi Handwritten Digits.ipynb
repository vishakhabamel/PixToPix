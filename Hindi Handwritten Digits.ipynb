{
 "cells": [
  {
   "cell_type": "code",
   "execution_count": 1,
   "metadata": {
    "colab": {
     "base_uri": "https://localhost:8080/",
     "height": 35
    },
    "colab_type": "code",
    "executionInfo": {
     "elapsed": 6638,
     "status": "ok",
     "timestamp": 1545120444167,
     "user": {
      "displayName": "Vatsalya Chaubey",
      "photoUrl": "https://lh5.googleusercontent.com/-LS1VhRp_Z90/AAAAAAAAAAI/AAAAAAAAAlc/9AwAhGw4_SY/s64/photo.jpg",
      "userId": "06866825344162825375"
     },
     "user_tz": -330
    },
    "id": "exmongTBSsX7",
    "outputId": "a1cef0c1-6456-45ec-f406-4c7766b728dc"
   },
   "outputs": [
    {
     "name": "stdout",
     "output_type": "stream",
     "text": [
      "Mounted at /content/gdrive\n"
     ]
    }
   ],
   "source": [
    "##################### MOUNT YOUT GOOGLE DRIVE AS A FOLDER ######################\n",
    "from google.colab import drive\n",
    "drive.mount('/content/gdrive',force_remount=True)"
   ]
  },
  {
   "cell_type": "code",
   "execution_count": 10,
   "metadata": {
    "colab": {
     "base_uri": "https://localhost:8080/",
     "height": 35
    },
    "colab_type": "code",
    "executionInfo": {
     "elapsed": 2566,
     "status": "ok",
     "timestamp": 1545120449766,
     "user": {
      "displayName": "Vatsalya Chaubey",
      "photoUrl": "https://lh5.googleusercontent.com/-LS1VhRp_Z90/AAAAAAAAAAI/AAAAAAAAAlc/9AwAhGw4_SY/s64/photo.jpg",
      "userId": "06866825344162825375"
     },
     "user_tz": -330
    },
    "id": "iDG-GfeC_cdc",
    "outputId": "d7899a7d-d280-451f-8e49-d003cb32889f"
   },
   "outputs": [],
   "source": [
    "import os\n",
    "import numpy as np\n",
    "import skimage.io as io\n",
    "import keras\n",
    "import pandas as pd\n",
    "import matplotlib.pyplot as plt\n",
    "from keras.layers import *\n",
    "from keras.utils import *\n",
    "from keras.optimizers import Adam\n",
    "from keras.models import *\n",
    "from sklearn.model_selection import train_test_split\n",
    "from sklearn.utils import shuffle"
   ]
  },
  {
   "cell_type": "code",
   "execution_count": 3,
   "metadata": {
    "colab": {
     "base_uri": "https://localhost:8080/",
     "height": 121
    },
    "colab_type": "code",
    "executionInfo": {
     "elapsed": 1318,
     "status": "ok",
     "timestamp": 1545120451871,
     "user": {
      "displayName": "Vatsalya Chaubey",
      "photoUrl": "https://lh5.googleusercontent.com/-LS1VhRp_Z90/AAAAAAAAAAI/AAAAAAAAAlc/9AwAhGw4_SY/s64/photo.jpg",
      "userId": "06866825344162825375"
     },
     "user_tz": -330
    },
    "id": "mHhu1r7YUMLr",
    "outputId": "a6e79de5-4a02-4ad7-b70b-5074d4047010"
   },
   "outputs": [
    {
     "data": {
      "text/plain": [
       "['Y_test.csv',\n",
       " 'Y_train.csv',\n",
       " 'X_test.csv',\n",
       " 'Y_test.gsheet',\n",
       " 'X_train.csv',\n",
       " 'References.npy']"
      ]
     },
     "execution_count": 3,
     "metadata": {
      "tags": []
     },
     "output_type": "execute_result"
    }
   ],
   "source": [
    "os.chdir('/content/gdrive/My Drive/Colab Notebooks/Hindi Handwritten Character Dataset')\n",
    "os.listdir()"
   ]
  },
  {
   "cell_type": "code",
   "execution_count": 0,
   "metadata": {
    "colab": {},
    "colab_type": "code",
    "id": "GW-B2b3h_zKo"
   },
   "outputs": [],
   "source": [
    "X_train = pd.read_csv('X_train.csv')\n",
    "X_train = X_train.drop(X_train.columns[0], axis = 1)\n",
    "X_train = np.array(X_train)"
   ]
  },
  {
   "cell_type": "code",
   "execution_count": 0,
   "metadata": {
    "colab": {},
    "colab_type": "code",
    "id": "lAJayIzyEKpk"
   },
   "outputs": [],
   "source": [
    "Y_train = pd.read_csv('Y_train.csv')\n",
    "Y_train = Y_train.drop(Y_train.columns[0], axis = 1)\n",
    "Y_train = np.array(Y_train)"
   ]
  },
  {
   "cell_type": "code",
   "execution_count": 0,
   "metadata": {
    "colab": {},
    "colab_type": "code",
    "id": "ny5ErzSnEKYN"
   },
   "outputs": [],
   "source": [
    "X_test = pd.read_csv('X_test.csv')\n",
    "X_test = X_test.drop(X_test.columns[0], axis = 1)\n",
    "X_test = np.array(X_test)"
   ]
  },
  {
   "cell_type": "code",
   "execution_count": 0,
   "metadata": {
    "colab": {},
    "colab_type": "code",
    "id": "sOymlsymEJYS"
   },
   "outputs": [],
   "source": [
    "Y_test = pd.read_csv('Y_test.csv')\n",
    "Y_test = Y_test.drop(Y_test.columns[0], axis = 1)\n",
    "Y_test = np.array(Y_test)"
   ]
  },
  {
   "cell_type": "code",
   "execution_count": 8,
   "metadata": {
    "colab": {
     "base_uri": "https://localhost:8080/",
     "height": 87
    },
    "colab_type": "code",
    "executionInfo": {
     "elapsed": 9980,
     "status": "ok",
     "timestamp": 1545120469154,
     "user": {
      "displayName": "Vatsalya Chaubey",
      "photoUrl": "https://lh5.googleusercontent.com/-LS1VhRp_Z90/AAAAAAAAAAI/AAAAAAAAAlc/9AwAhGw4_SY/s64/photo.jpg",
      "userId": "06866825344162825375"
     },
     "user_tz": -330
    },
    "id": "_yDAuzoQAZ83",
    "outputId": "2beb3952-d788-4770-f5bd-8ec9859fd27e"
   },
   "outputs": [
    {
     "name": "stdout",
     "output_type": "stream",
     "text": [
      "(78200, 32, 32, 1)\n",
      "(78200, 1)\n",
      "(13800, 32, 32, 1)\n",
      "(13800, 1)\n"
     ]
    }
   ],
   "source": [
    "X_train = X_train.reshape((78200,32,32,1))\n",
    "print(X_train.shape)\n",
    "Y_train = Y_train.reshape((78200,1))\n",
    "print(Y_train.shape)\n",
    "X_test = X_test.reshape((13800,32,32,1))\n",
    "print(X_test.shape)\n",
    "Y_test = Y_test.reshape((13800,1))\n",
    "print(Y_test.shape)"
   ]
  },
  {
   "cell_type": "code",
   "execution_count": 9,
   "metadata": {
    "colab": {
     "base_uri": "https://localhost:8080/",
     "height": 55
    },
    "colab_type": "code",
    "executionInfo": {
     "elapsed": 8740,
     "status": "ok",
     "timestamp": 1545120469154,
     "user": {
      "displayName": "Vatsalya Chaubey",
      "photoUrl": "https://lh5.googleusercontent.com/-LS1VhRp_Z90/AAAAAAAAAAI/AAAAAAAAAlc/9AwAhGw4_SY/s64/photo.jpg",
      "userId": "06866825344162825375"
     },
     "user_tz": -330
    },
    "id": "TjwZnMcAGHVE",
    "outputId": "426e456b-42b7-495a-c858-8b70027424c6"
   },
   "outputs": [
    {
     "name": "stdout",
     "output_type": "stream",
     "text": [
      "{1: 'ka', 2: 'kha', 3: 'ga', 4: 'gha', 5: 'kna', 6: 'cha', 7: 'chha', 8: 'ja', 9: 'jha', 10: 'yna', 11: 'taamatar', 12: 'thaa', 13: 'daa', 14: 'dhaa', 15: 'adna', 16: 'tabala', 17: 'tha', 18: 'da', 19: 'dha', 20: 'na', 21: 'pa', 22: 'pha', 23: 'ba', 24: 'bha', 25: 'ma', 26: 'yaw', 27: 'ra', 28: 'la', 29: 'waw', 30: 'motosaw', 31: 'petchiryakha', 32: 'patalosaw', 33: 'ha', 34: 'chhya', 35: 'tra', 36: 'gya', 37: 0, 38: 1, 39: 2, 40: 3, 41: 4, 42: 5, 43: 6, 44: 7, 45: 8, 46: 9}\n"
     ]
    }
   ],
   "source": [
    "ref = np.load('References.npy').item()\n",
    "print(ref)"
   ]
  },
  {
   "cell_type": "code",
   "execution_count": 0,
   "metadata": {
    "colab": {},
    "colab_type": "code",
    "id": "bUXIhNwcB5-E"
   },
   "outputs": [],
   "source": [
    "X_train = X_train/255\n",
    "X_test = X_test/255"
   ]
  },
  {
   "cell_type": "code",
   "execution_count": 0,
   "metadata": {
    "colab": {},
    "colab_type": "code",
    "id": "mHg2NjktItxv"
   },
   "outputs": [],
   "source": [
    "X_train, Y_train = shuffle(X_train, Y_train, random_state = 2)\n",
    "X_test, Y_test = shuffle(X_test, Y_test, random_state = 0)"
   ]
  },
  {
   "cell_type": "code",
   "execution_count": 60,
   "metadata": {
    "colab": {
     "base_uri": "https://localhost:8080/",
     "height": 365
    },
    "colab_type": "code",
    "executionInfo": {
     "elapsed": 1860,
     "status": "ok",
     "timestamp": 1545116906086,
     "user": {
      "displayName": "Vatsalya Chaubey",
      "photoUrl": "https://lh5.googleusercontent.com/-LS1VhRp_Z90/AAAAAAAAAAI/AAAAAAAAAlc/9AwAhGw4_SY/s64/photo.jpg",
      "userId": "06866825344162825375"
     },
     "user_tz": -330
    },
    "id": "iIV03oqLAfyb",
    "outputId": "d267a64d-160b-437d-a11f-952196d61d07"
   },
   "outputs": [
    {
     "name": "stdout",
     "output_type": "stream",
     "text": [
      "patalosaw\n"
     ]
    },
    {
     "data": {
      "image/png": "[encoded data removed]",
      "text/plain": [
       "<matplotlib.figure.Figure at 0x7faad75ca2e8>"
      ]
     },
     "metadata": {
      "tags": []
     },
     "output_type": "display_data"
    }
   ],
   "source": [
    "plt.imshow(X_test[0])\n",
    "print(ref[int(Y_test[0])])"
   ]
  },
  {
   "cell_type": "code",
   "execution_count": 12,
   "metadata": {
    "colab": {
     "base_uri": "https://localhost:8080/",
     "height": 52
    },
    "colab_type": "code",
    "executionInfo": {
     "elapsed": 1523,
     "status": "ok",
     "timestamp": 1545120479867,
     "user": {
      "displayName": "Vatsalya Chaubey",
      "photoUrl": "https://lh5.googleusercontent.com/-LS1VhRp_Z90/AAAAAAAAAAI/AAAAAAAAAlc/9AwAhGw4_SY/s64/photo.jpg",
      "userId": "06866825344162825375"
     },
     "user_tz": -330
    },
    "id": "UydHfLNlCTp7",
    "outputId": "714b6465-c7e8-4f34-a51e-0cb27fd9ce23"
   },
   "outputs": [
    {
     "name": "stdout",
     "output_type": "stream",
     "text": [
      "(5520, 32, 32, 1)\n",
      "(8280, 32, 32, 1)\n"
     ]
    }
   ],
   "source": [
    "X_test, X_val, Y_test, Y_val = train_test_split(X_test, Y_test, test_size = 0.6, random_state = 1)\n",
    "print(X_test.shape)\n",
    "print(X_val.shape)"
   ]
  },
  {
   "cell_type": "code",
   "execution_count": 13,
   "metadata": {
    "colab": {
     "base_uri": "https://localhost:8080/",
     "height": 35
    },
    "colab_type": "code",
    "executionInfo": {
     "elapsed": 910,
     "status": "ok",
     "timestamp": 1545120481605,
     "user": {
      "displayName": "Vatsalya Chaubey",
      "photoUrl": "https://lh5.googleusercontent.com/-LS1VhRp_Z90/AAAAAAAAAAI/AAAAAAAAAlc/9AwAhGw4_SY/s64/photo.jpg",
      "userId": "06866825344162825375"
     },
     "user_tz": -330
    },
    "id": "OQ_R8t2PJ3l3",
    "outputId": "ff0b4a18-a00e-44ad-a050-d40e1b7d2cb8"
   },
   "outputs": [
    {
     "name": "stdout",
     "output_type": "stream",
     "text": [
      "(5520, 47)\n"
     ]
    }
   ],
   "source": [
    "Y_test = to_categorical(Y_test)\n",
    "print(Y_test.shape)"
   ]
  },
  {
   "cell_type": "code",
   "execution_count": 14,
   "metadata": {
    "colab": {
     "base_uri": "https://localhost:8080/",
     "height": 35
    },
    "colab_type": "code",
    "executionInfo": {
     "elapsed": 1822,
     "status": "ok",
     "timestamp": 1545120484196,
     "user": {
      "displayName": "Vatsalya Chaubey",
      "photoUrl": "https://lh5.googleusercontent.com/-LS1VhRp_Z90/AAAAAAAAAAI/AAAAAAAAAlc/9AwAhGw4_SY/s64/photo.jpg",
      "userId": "06866825344162825375"
     },
     "user_tz": -330
    },
    "id": "qqZnvbUlO8iS",
    "outputId": "d6338b7c-a4d6-4118-f16a-62beb08628d0"
   },
   "outputs": [
    {
     "name": "stdout",
     "output_type": "stream",
     "text": [
      "(8280, 47)\n"
     ]
    }
   ],
   "source": [
    "Y_val = to_categorical(Y_val)\n",
    "print(Y_val.shape)"
   ]
  },
  {
   "cell_type": "code",
   "execution_count": 15,
   "metadata": {
    "colab": {
     "base_uri": "https://localhost:8080/",
     "height": 35
    },
    "colab_type": "code",
    "executionInfo": {
     "elapsed": 840,
     "status": "ok",
     "timestamp": 1545120485817,
     "user": {
      "displayName": "Vatsalya Chaubey",
      "photoUrl": "https://lh5.googleusercontent.com/-LS1VhRp_Z90/AAAAAAAAAAI/AAAAAAAAAlc/9AwAhGw4_SY/s64/photo.jpg",
      "userId": "06866825344162825375"
     },
     "user_tz": -330
    },
    "id": "qlHHVlrNSzZA",
    "outputId": "a8d45ff3-e4f7-4519-8d9b-f47fa6f5c942"
   },
   "outputs": [
    {
     "name": "stdout",
     "output_type": "stream",
     "text": [
      "(78200, 47)\n"
     ]
    }
   ],
   "source": [
    "Y_train = to_categorical(Y_train)\n",
    "print(Y_train.shape)"
   ]
  },
  {
   "cell_type": "code",
   "execution_count": 13,
   "metadata": {
    "colab": {
     "base_uri": "https://localhost:8080/",
     "height": 627
    },
    "colab_type": "code",
    "executionInfo": {
     "elapsed": 1762,
     "status": "ok",
     "timestamp": 1545121254541,
     "user": {
      "displayName": "Vatsalya Chaubey",
      "photoUrl": "https://lh5.googleusercontent.com/-LS1VhRp_Z90/AAAAAAAAAAI/AAAAAAAAAlc/9AwAhGw4_SY/s64/photo.jpg",
      "userId": "06866825344162825375"
     },
     "user_tz": -330
    },
    "id": "RONUzHlAHdYl",
    "outputId": "9888813f-b78c-4b59-ae95-e3aa0e19219b"
   },
   "outputs": [
    {
     "name": "stdout",
     "output_type": "stream",
     "text": [
      "_________________________________________________________________\n",
      "Layer (type)                 Output Shape              Param #   \n",
      "=================================================================\n",
      "input_10 (InputLayer)        (None, 32, 32, 1)         0         \n",
      "_________________________________________________________________\n",
      "conv2d_46 (Conv2D)           (None, 32, 32, 64)        640       \n",
      "_________________________________________________________________\n",
      "conv2d_47 (Conv2D)           (None, 32, 32, 128)       73856     \n",
      "_________________________________________________________________\n",
      "max_pooling2d_19 (MaxPooling (None, 16, 16, 128)       0         \n",
      "_________________________________________________________________\n",
      "conv2d_48 (Conv2D)           (None, 16, 16, 128)       147584    \n",
      "_________________________________________________________________\n",
      "conv2d_49 (Conv2D)           (None, 16, 16, 256)       819456    \n",
      "_________________________________________________________________\n",
      "max_pooling2d_20 (MaxPooling (None, 8, 8, 256)         0         \n",
      "_________________________________________________________________\n",
      "conv2d_50 (Conv2D)           (None, 8, 8, 256)         1638656   \n",
      "_________________________________________________________________\n",
      "flatten_10 (Flatten)         (None, 16384)             0         \n",
      "_________________________________________________________________\n",
      "dense_28 (Dense)             (None, 512)               8389120   \n",
      "_________________________________________________________________\n",
      "dense_29 (Dense)             (None, 128)               65664     \n",
      "_________________________________________________________________\n",
      "dense_30 (Dense)             (None, 47)                6063      \n",
      "=================================================================\n",
      "Total params: 11,141,039\n",
      "Trainable params: 11,141,039\n",
      "Non-trainable params: 0\n",
      "_________________________________________________________________\n",
      "None\n"
     ]
    },
    {
     "name": "stderr",
     "output_type": "stream",
     "text": [
      "/home/vatsalya/.local/lib/python2.7/site-packages/ipykernel_launcher.py:14: UserWarning: Update your `Model` call to the Keras 2 API: `Model(outputs=Tensor(\"de..., inputs=Tensor(\"in...)`\n",
      "  \n"
     ]
    }
   ],
   "source": [
    "inputs = Input(shape = (32,32,1))\n",
    "conv1 = Conv2D(64, 3, padding='same', activation='relu')(inputs)\n",
    "conv2 = Conv2D(128, 3, padding='same', activation='relu')(conv1)\n",
    "pool2 = MaxPooling2D((2,2))(conv2)\n",
    "conv3 = Conv2D(128, 3, padding='same', activation='relu')(pool2)\n",
    "conv4 = Conv2D(256, 5, padding='same', activation='relu')(conv3)\n",
    "pool4 = MaxPooling2D((2,2))(conv4)\n",
    "conv5 = Conv2D(256, 5, padding='same', activation='relu')(pool4)\n",
    "flat = Flatten()(conv5)\n",
    "dense0 = Dense(512, activation='relu')(flat)\n",
    "dense1 = Dense(128, activation='relu')(dense0)\n",
    "dense2 = Dense(47, activation='softmax')(dense1)\n",
    "\n",
    "model = Model(input = inputs, output = dense2)\n",
    "print(model.summary())"
   ]
  },
  {
   "cell_type": "code",
   "execution_count": 22,
   "metadata": {
    "colab": {
     "base_uri": "https://localhost:8080/",
     "height": 728
    },
    "colab_type": "code",
    "executionInfo": {
     "elapsed": 1180683,
     "status": "ok",
     "timestamp": 1545122438628,
     "user": {
      "displayName": "Vatsalya Chaubey",
      "photoUrl": "https://lh5.googleusercontent.com/-LS1VhRp_Z90/AAAAAAAAAAI/AAAAAAAAAlc/9AwAhGw4_SY/s64/photo.jpg",
      "userId": "06866825344162825375"
     },
     "user_tz": -330
    },
    "id": "6lGJggdnY50F",
    "outputId": "d1420785-1a69-45a9-e716-bd729ad1d26e"
   },
   "outputs": [
    {
     "name": "stdout",
     "output_type": "stream",
     "text": [
      "Train on 78200 samples, validate on 8280 samples\n",
      "Epoch 1/20\n",
      "78200/78200 [==============================] - 67s 854us/step - loss: 0.6263 - acc: 0.8285 - val_loss: 0.1106 - val_acc: 0.9667\n",
      "Epoch 2/20\n",
      "78200/78200 [==============================] - 59s 758us/step - loss: 0.0717 - acc: 0.9782 - val_loss: 0.0830 - val_acc: 0.9744\n",
      "Epoch 3/20\n",
      "78200/78200 [==============================] - 59s 755us/step - loss: 0.0360 - acc: 0.9886 - val_loss: 0.0639 - val_acc: 0.9806\n",
      "Epoch 4/20\n",
      "78200/78200 [==============================] - 59s 754us/step - loss: 0.0260 - acc: 0.9920 - val_loss: 0.0741 - val_acc: 0.9801\n",
      "Epoch 5/20\n",
      "78200/78200 [==============================] - 59s 753us/step - loss: 0.0205 - acc: 0.9937 - val_loss: 0.0579 - val_acc: 0.9838\n",
      "Epoch 6/20\n",
      "78200/78200 [==============================] - 59s 751us/step - loss: 0.0149 - acc: 0.9953 - val_loss: 0.0837 - val_acc: 0.9766\n",
      "Epoch 7/20\n",
      "78200/78200 [==============================] - 59s 750us/step - loss: 0.0126 - acc: 0.9960 - val_loss: 0.1034 - val_acc: 0.9763\n",
      "Epoch 8/20\n",
      "78200/78200 [==============================] - 59s 749us/step - loss: 0.0115 - acc: 0.9967 - val_loss: 0.0708 - val_acc: 0.9826\n",
      "Epoch 9/20\n",
      "78200/78200 [==============================] - 58s 747us/step - loss: 0.0106 - acc: 0.9967 - val_loss: 0.0683 - val_acc: 0.9845\n",
      "Epoch 10/20\n",
      "78200/78200 [==============================] - 58s 748us/step - loss: 0.0103 - acc: 0.9969 - val_loss: 0.0614 - val_acc: 0.9856\n",
      "Epoch 11/20\n",
      "78200/78200 [==============================] - 58s 747us/step - loss: 0.0090 - acc: 0.9970 - val_loss: 0.0689 - val_acc: 0.9824\n",
      "Epoch 12/20\n",
      "78200/78200 [==============================] - 58s 746us/step - loss: 0.0090 - acc: 0.9974 - val_loss: 0.0587 - val_acc: 0.9859\n",
      "Epoch 13/20\n",
      "78200/78200 [==============================] - 58s 747us/step - loss: 0.0084 - acc: 0.9975 - val_loss: 0.0848 - val_acc: 0.9808\n",
      "Epoch 14/20\n",
      "78200/78200 [==============================] - 58s 746us/step - loss: 0.0071 - acc: 0.9980 - val_loss: 0.0650 - val_acc: 0.9857\n",
      "Epoch 15/20\n",
      "78200/78200 [==============================] - 58s 744us/step - loss: 0.0087 - acc: 0.9976 - val_loss: 0.0507 - val_acc: 0.9872\n",
      "Epoch 16/20\n",
      "78200/78200 [==============================] - 58s 745us/step - loss: 0.0086 - acc: 0.9978 - val_loss: 0.0556 - val_acc: 0.9850\n",
      "Epoch 17/20\n",
      "78200/78200 [==============================] - 58s 744us/step - loss: 0.0088 - acc: 0.9975 - val_loss: 0.0715 - val_acc: 0.9848\n",
      "Epoch 18/20\n",
      "78200/78200 [==============================] - 58s 744us/step - loss: 0.0068 - acc: 0.9981 - val_loss: 0.0660 - val_acc: 0.9878\n",
      "Epoch 19/20\n",
      "78200/78200 [==============================] - 58s 744us/step - loss: 0.0088 - acc: 0.9975 - val_loss: 0.0652 - val_acc: 0.9851\n",
      "Epoch 20/20\n",
      "78200/78200 [==============================] - 58s 745us/step - loss: 0.0080 - acc: 0.9976 - val_loss: 0.0556 - val_acc: 0.9868\n"
     ]
    }
   ],
   "source": [
    "model.compile(Adam(lr = 10e-4), loss = 'categorical_crossentropy', metrics = ['accuracy'])\n",
    "history = model.fit(X_train, Y_train, epochs = 20, batch_size = 400, validation_data = (X_val, Y_val), verbose = 1)"
   ]
  },
  {
   "cell_type": "code",
   "execution_count": 23,
   "metadata": {
    "colab": {
     "base_uri": "https://localhost:8080/",
     "height": 347
    },
    "colab_type": "code",
    "executionInfo": {
     "elapsed": 2073,
     "status": "ok",
     "timestamp": 1545127121366,
     "user": {
      "displayName": "Vatsalya Chaubey",
      "photoUrl": "https://lh5.googleusercontent.com/-LS1VhRp_Z90/AAAAAAAAAAI/AAAAAAAAAlc/9AwAhGw4_SY/s64/photo.jpg",
      "userId": "06866825344162825375"
     },
     "user_tz": -330
    },
    "id": "HQZggcgMPgdk",
    "outputId": "4aa0b1a4-6c17-4a5c-e2c1-69430ec3446e"
   },
   "outputs": [
    {
     "data": {
      "image/png": "[encoded data removed]",
      "text/plain": [
       "<matplotlib.figure.Figure at 0x7f0b7ea09d68>"
      ]
     },
     "metadata": {
      "tags": []
     },
     "output_type": "display_data"
    }
   ],
   "source": [
    "fig, ax = plt.subplots(2,1)\n",
    "ax[0].plot(history.history['loss'], color='b', label=\"Training loss\")\n",
    "ax[0].plot(history.history['val_loss'], color='r', label=\"validation loss\",axes =ax[0])\n",
    "legend = ax[0].legend(loc='best', shadow=True)\n",
    "\n",
    "ax[1].plot(history.history['acc'], color='b', label=\"Training accuracy\")\n",
    "ax[1].plot(history.history['val_acc'], color='r',label=\"Validation accuracy\")\n",
    "legend = ax[1].legend(loc='best', shadow=True)"
   ]
  },
  {
   "cell_type": "code",
   "execution_count": 0,
   "metadata": {
    "colab": {},
    "colab_type": "code",
    "id": "oXUZd3YxwMlV"
   },
   "outputs": [],
   "source": [
    "model.save('First model.h5')"
   ]
  },
  {
   "cell_type": "code",
   "execution_count": 33,
   "metadata": {
    "colab": {
     "base_uri": "https://localhost:8080/",
     "height": 52
    },
    "colab_type": "code",
    "executionInfo": {
     "elapsed": 3003,
     "status": "ok",
     "timestamp": 1545128647042,
     "user": {
      "displayName": "Vatsalya Chaubey",
      "photoUrl": "https://lh5.googleusercontent.com/-LS1VhRp_Z90/AAAAAAAAAAI/AAAAAAAAAlc/9AwAhGw4_SY/s64/photo.jpg",
      "userId": "06866825344162825375"
     },
     "user_tz": -330
    },
    "id": "DdsebqfJx5af",
    "outputId": "42937191-cb01-423b-a0d9-084038563a4c"
   },
   "outputs": [
    {
     "name": "stdout",
     "output_type": "stream",
     "text": [
      "5520/5520 [==============================] - 2s 279us/step\n"
     ]
    },
    {
     "data": {
      "text/plain": [
       "[0.05953908379635085, 0.9882246471833491]"
      ]
     },
     "execution_count": 33,
     "metadata": {
      "tags": []
     },
     "output_type": "execute_result"
    }
   ],
   "source": [
    "model.evaluate(X_test, Y_test, batch_size = 400, verbose =1)"
   ]
  },
  {
   "cell_type": "code",
   "execution_count": 34,
   "metadata": {
    "colab": {
     "base_uri": "https://localhost:8080/",
     "height": 35
    },
    "colab_type": "code",
    "executionInfo": {
     "elapsed": 1584,
     "status": "ok",
     "timestamp": 1545128657313,
     "user": {
      "displayName": "Vatsalya Chaubey",
      "photoUrl": "https://lh5.googleusercontent.com/-LS1VhRp_Z90/AAAAAAAAAAI/AAAAAAAAAlc/9AwAhGw4_SY/s64/photo.jpg",
      "userId": "06866825344162825375"
     },
     "user_tz": -330
    },
    "id": "YmprFVwn0ks4",
    "outputId": "ada7be80-a6d6-4cdf-93ad-ae24587d91fd"
   },
   "outputs": [
    {
     "data": {
      "text/plain": [
       "['loss', 'acc']"
      ]
     },
     "execution_count": 34,
     "metadata": {
      "tags": []
     },
     "output_type": "execute_result"
    }
   ],
   "source": [
    "model.metrics_names"
   ]
  },
  {
   "cell_type": "code",
   "execution_count": 46,
   "metadata": {
    "colab": {
     "base_uri": "https://localhost:8080/",
     "height": 35
    },
    "colab_type": "code",
    "executionInfo": {
     "elapsed": 3905,
     "status": "ok",
     "timestamp": 1545129033192,
     "user": {
      "displayName": "Vatsalya Chaubey",
      "photoUrl": "https://lh5.googleusercontent.com/-LS1VhRp_Z90/AAAAAAAAAAI/AAAAAAAAAlc/9AwAhGw4_SY/s64/photo.jpg",
      "userId": "06866825344162825375"
     },
     "user_tz": -330
    },
    "id": "Rqs40EZ92Cui",
    "outputId": "fbe910b9-27c3-4208-d0da-4ba537dfc380"
   },
   "outputs": [
    {
     "name": "stdout",
     "output_type": "stream",
     "text": [
      "5520/5520 [==============================] - 2s 423us/step\n"
     ]
    }
   ],
   "source": [
    "predicted = model.predict(x = X_test, verbose = 1)"
   ]
  },
  {
   "cell_type": "code",
   "execution_count": 48,
   "metadata": {
    "colab": {
     "base_uri": "https://localhost:8080/",
     "height": 365
    },
    "colab_type": "code",
    "executionInfo": {
     "elapsed": 1665,
     "status": "ok",
     "timestamp": 1545129049791,
     "user": {
      "displayName": "Vatsalya Chaubey",
      "photoUrl": "https://lh5.googleusercontent.com/-LS1VhRp_Z90/AAAAAAAAAAI/AAAAAAAAAlc/9AwAhGw4_SY/s64/photo.jpg",
      "userId": "06866825344162825375"
     },
     "user_tz": -330
    },
    "id": "5yn-rxLL1BQD",
    "outputId": "4de7d761-27ed-4873-ace4-d7f0e17e7dbe"
   },
   "outputs": [
    {
     "name": "stdout",
     "output_type": "stream",
     "text": [
      "6\n"
     ]
    },
    {
     "data": {
      "image/png": "[encoded data removed]",
      "text/plain": [
       "<matplotlib.figure.Figure at 0x7f0b7bd11cc0>"
      ]
     },
     "metadata": {
      "tags": []
     },
     "output_type": "display_data"
    }
   ],
   "source": [
    "index = 500\n",
    "img = X_test[index]\n",
    "img = img.reshape((32,32))\n",
    "plt.imshow(img)\n",
    "predicted = np.argmax(predicted, axis = 1)\n",
    "print(ref[predicted[index]])"
   ]
  },
  {
   "cell_type": "code",
   "execution_count": 63,
   "metadata": {
    "colab": {
     "base_uri": "https://localhost:8080/",
     "height": 696
    },
    "colab_type": "code",
    "executionInfo": {
     "elapsed": 1413,
     "status": "ok",
     "timestamp": 1545131142943,
     "user": {
      "displayName": "Vatsalya Chaubey",
      "photoUrl": "https://lh5.googleusercontent.com/-LS1VhRp_Z90/AAAAAAAAAAI/AAAAAAAAAlc/9AwAhGw4_SY/s64/photo.jpg",
      "userId": "06866825344162825375"
     },
     "user_tz": -330
    },
    "id": "JfLDH9lZ1E_G",
    "outputId": "d6970b03-c6b4-4238-cda8-98fe2ef5f24f"
   },
   "outputs": [
    {
     "name": "stdout",
     "output_type": "stream",
     "text": [
      "_________________________________________________________________\n",
      "Layer (type)                 Output Shape              Param #   \n",
      "=================================================================\n",
      "input_7 (InputLayer)         (None, 32, 32, 1)         0         \n",
      "_________________________________________________________________\n",
      "conv2d_33 (Conv2D)           (None, 32, 32, 64)        640       \n",
      "_________________________________________________________________\n",
      "conv2d_34 (Conv2D)           (None, 32, 32, 64)        36928     \n",
      "_________________________________________________________________\n",
      "conv2d_35 (Conv2D)           (None, 32, 32, 128)       73856     \n",
      "_________________________________________________________________\n",
      "max_pooling2d_13 (MaxPooling (None, 16, 16, 128)       0         \n",
      "_________________________________________________________________\n",
      "conv2d_36 (Conv2D)           (None, 16, 16, 128)       147584    \n",
      "_________________________________________________________________\n",
      "conv2d_37 (Conv2D)           (None, 16, 16, 256)       819456    \n",
      "_________________________________________________________________\n",
      "max_pooling2d_14 (MaxPooling (None, 8, 8, 256)         0         \n",
      "_________________________________________________________________\n",
      "conv2d_38 (Conv2D)           (None, 8, 8, 256)         1638656   \n",
      "_________________________________________________________________\n",
      "flatten_7 (Flatten)          (None, 16384)             0         \n",
      "_________________________________________________________________\n",
      "dense_20 (Dense)             (None, 512)               8389120   \n",
      "_________________________________________________________________\n",
      "dense_21 (Dense)             (None, 128)               65664     \n",
      "_________________________________________________________________\n",
      "dense_22 (Dense)             (None, 64)                8256      \n",
      "_________________________________________________________________\n",
      "dense_23 (Dense)             (None, 47)                3055      \n",
      "=================================================================\n",
      "Total params: 11,183,215\n",
      "Trainable params: 11,183,215\n",
      "Non-trainable params: 0\n",
      "_________________________________________________________________\n",
      "None\n"
     ]
    },
    {
     "name": "stderr",
     "output_type": "stream",
     "text": [
      "/usr/local/lib/python3.6/dist-packages/ipykernel_launcher.py:16: UserWarning: Update your `Model` call to the Keras 2 API: `Model(inputs=Tensor(\"in..., outputs=Tensor(\"de...)`\n",
      "  app.launch_new_instance()\n"
     ]
    }
   ],
   "source": [
    "inputs = Input(shape = (32,32,1))\n",
    "conv0 = Conv2D(64, 3, padding = 'same', activation = 'relu')(inputs)\n",
    "conv1 = Conv2D(64, 3, padding='same', activation='relu')(conv0)\n",
    "conv2 = Conv2D(128, 3, padding='same', activation='relu')(conv1)\n",
    "pool2 = MaxPooling2D((2,2))(conv2)\n",
    "conv3 = Conv2D(128, 3, padding='same', activation='relu')(pool2)\n",
    "conv4 = Conv2D(256, 5, padding='same', activation='relu')(conv3)\n",
    "pool4 = MaxPooling2D((2,2))(conv4)\n",
    "conv5 = Conv2D(256, 5, padding='same', activation='relu')(pool4)\n",
    "flat = Flatten()(conv5)\n",
    "dense0 = Dense(512, activation='relu')(flat)\n",
    "dense1 = Dense(128, activation='relu')(dense0)\n",
    "dense2 = Dense(64, activation='relu')(dense1)\n",
    "dense3 = Dense(47, activation='softmax')(dense2)\n",
    "\n",
    "model1 = Model(input = inputs, output = dense3)\n",
    "print(model1.summary())"
   ]
  },
  {
   "cell_type": "code",
   "execution_count": 0,
   "metadata": {
    "colab": {},
    "colab_type": "code",
    "id": "a8TSaIgs38S0"
   },
   "outputs": [],
   "source": [
    "from keras.preprocessing.image import ImageDataGenerator\n",
    "from keras.callbacks import *"
   ]
  },
  {
   "cell_type": "code",
   "execution_count": 0,
   "metadata": {
    "colab": {},
    "colab_type": "code",
    "id": "KN5fIIKv4YCp"
   },
   "outputs": [],
   "source": [
    "datagen = ImageDataGenerator(rotation_range = 10, zoom_range = 0.1, width_shift_range = 0.1, height_shift_range = 0.1)\n",
    "datagen.fit(X_train)"
   ]
  },
  {
   "cell_type": "code",
   "execution_count": 0,
   "metadata": {
    "colab": {},
    "colab_type": "code",
    "id": "QUEFwqwH5U6M"
   },
   "outputs": [],
   "source": [
    "model1.compile(Adam(lr = 10e-4), loss = 'categorical_crossentropy', metrics = ['accuracy'])"
   ]
  },
  {
   "cell_type": "code",
   "execution_count": 0,
   "metadata": {
    "colab": {},
    "colab_type": "code",
    "id": "AFjv0Iew72nr"
   },
   "outputs": [],
   "source": [
    "reduce_lr = ReduceLROnPlateau(monitor='val_loss', factor=0.8,\n",
    "                              patience=3)"
   ]
  },
  {
   "cell_type": "code",
   "execution_count": 69,
   "metadata": {
    "colab": {
     "base_uri": "https://localhost:8080/",
     "height": 884
    },
    "colab_type": "code",
    "executionInfo": {
     "elapsed": 1530909,
     "status": "ok",
     "timestamp": 1545133250052,
     "user": {
      "displayName": "Vatsalya Chaubey",
      "photoUrl": "https://lh5.googleusercontent.com/-LS1VhRp_Z90/AAAAAAAAAAI/AAAAAAAAAlc/9AwAhGw4_SY/s64/photo.jpg",
      "userId": "06866825344162825375"
     },
     "user_tz": -330
    },
    "id": "R4beHLUf5t1x",
    "outputId": "1163b370-3f8a-4ae6-a6db-bc8bd3b4610a"
   },
   "outputs": [
    {
     "name": "stdout",
     "output_type": "stream",
     "text": [
      "Epoch 1/25\n",
      "391/391 [==============================] - 76s 194ms/step - loss: 0.0835 - acc: 0.9749 - val_loss: 0.0469 - val_acc: 0.9854\n",
      "Epoch 2/25\n",
      "391/391 [==============================] - 75s 192ms/step - loss: 0.0612 - acc: 0.9817 - val_loss: 0.0580 - val_acc: 0.9849\n",
      "Epoch 3/25\n",
      "391/391 [==============================] - 75s 192ms/step - loss: 0.0550 - acc: 0.9838 - val_loss: 0.0505 - val_acc: 0.9868\n",
      "Epoch 4/25\n",
      "391/391 [==============================] - 75s 192ms/step - loss: 0.0485 - acc: 0.9853 - val_loss: 0.0378 - val_acc: 0.9899\n",
      "Epoch 5/25\n",
      "391/391 [==============================] - 75s 193ms/step - loss: 0.0445 - acc: 0.9864 - val_loss: 0.0429 - val_acc: 0.9893\n",
      "Epoch 6/25\n",
      "391/391 [==============================] - 75s 192ms/step - loss: 0.0385 - acc: 0.9884 - val_loss: 0.0298 - val_acc: 0.9917\n",
      "Epoch 7/25\n",
      "391/391 [==============================] - 75s 192ms/step - loss: 0.0353 - acc: 0.9899 - val_loss: 0.0364 - val_acc: 0.9913\n",
      "Epoch 8/25\n",
      "391/391 [==============================] - 75s 192ms/step - loss: 0.0320 - acc: 0.9904 - val_loss: 0.0339 - val_acc: 0.9906\n",
      "Epoch 9/25\n",
      "391/391 [==============================] - 75s 192ms/step - loss: 0.0336 - acc: 0.9897 - val_loss: 0.0323 - val_acc: 0.9912\n",
      "Epoch 10/25\n",
      "391/391 [==============================] - 75s 192ms/step - loss: 0.0226 - acc: 0.9931 - val_loss: 0.0194 - val_acc: 0.9948\n",
      "Epoch 11/25\n",
      "391/391 [==============================] - 75s 192ms/step - loss: 0.0230 - acc: 0.9929 - val_loss: 0.0236 - val_acc: 0.9931\n",
      "Epoch 12/25\n",
      "391/391 [==============================] - 75s 192ms/step - loss: 0.0195 - acc: 0.9942 - val_loss: 0.0308 - val_acc: 0.9929\n",
      "Epoch 13/25\n",
      "391/391 [==============================] - 75s 192ms/step - loss: 0.0231 - acc: 0.9932 - val_loss: 0.0299 - val_acc: 0.9917\n",
      "Epoch 14/25\n",
      "391/391 [==============================] - 75s 192ms/step - loss: 0.0144 - acc: 0.9954 - val_loss: 0.0205 - val_acc: 0.9950\n",
      "Epoch 15/25\n",
      "391/391 [==============================] - 75s 191ms/step - loss: 0.0132 - acc: 0.9960 - val_loss: 0.0228 - val_acc: 0.9948\n",
      "Epoch 16/25\n",
      "391/391 [==============================] - 75s 192ms/step - loss: 0.0150 - acc: 0.9954 - val_loss: 0.0251 - val_acc: 0.9943\n",
      "Epoch 17/25\n",
      "391/391 [==============================] - 75s 191ms/step - loss: 0.0112 - acc: 0.9966 - val_loss: 0.0207 - val_acc: 0.9944\n",
      "Epoch 18/25\n",
      "391/391 [==============================] - 75s 191ms/step - loss: 0.0112 - acc: 0.9968 - val_loss: 0.0263 - val_acc: 0.9940\n",
      "Epoch 19/25\n",
      "391/391 [==============================] - 75s 192ms/step - loss: 0.0103 - acc: 0.9970 - val_loss: 0.0294 - val_acc: 0.9946\n",
      "Epoch 20/25\n",
      "391/391 [==============================] - 75s 191ms/step - loss: 0.0077 - acc: 0.9974 - val_loss: 0.0217 - val_acc: 0.9960\n",
      "Epoch 21/25\n",
      "391/391 [==============================] - 75s 191ms/step - loss: 0.0078 - acc: 0.9978 - val_loss: 0.0259 - val_acc: 0.9953\n",
      "Epoch 22/25\n",
      "391/391 [==============================] - 75s 191ms/step - loss: 0.0073 - acc: 0.9977 - val_loss: 0.0263 - val_acc: 0.9955\n",
      "Epoch 23/25\n",
      "391/391 [==============================] - 75s 191ms/step - loss: 0.0059 - acc: 0.9981 - val_loss: 0.0263 - val_acc: 0.9953\n",
      "Epoch 24/25\n",
      "391/391 [==============================] - 75s 191ms/step - loss: 0.0058 - acc: 0.9981 - val_loss: 0.0236 - val_acc: 0.9953\n",
      "Epoch 25/25\n",
      "391/391 [==============================] - 75s 191ms/step - loss: 0.0054 - acc: 0.9983 - val_loss: 0.0269 - val_acc: 0.9944\n"
     ]
    }
   ],
   "source": [
    "history = model1.fit_generator(datagen.flow(X_train, Y_train, batch_size = 200), epochs = 25, steps_per_epoch = 391, validation_data = (X_val, Y_val), callbacks = [reduce_lr])"
   ]
  },
  {
   "cell_type": "code",
   "execution_count": 0,
   "metadata": {
    "colab": {},
    "colab_type": "code",
    "id": "LRrjx9Q9_nlt"
   },
   "outputs": [],
   "source": [
    "model1.save('Second model.h5')"
   ]
  },
  {
   "cell_type": "code",
   "execution_count": 71,
   "metadata": {
    "colab": {
     "base_uri": "https://localhost:8080/",
     "height": 52
    },
    "colab_type": "code",
    "executionInfo": {
     "elapsed": 3100,
     "status": "ok",
     "timestamp": 1545133411841,
     "user": {
      "displayName": "Vatsalya Chaubey",
      "photoUrl": "https://lh5.googleusercontent.com/-LS1VhRp_Z90/AAAAAAAAAAI/AAAAAAAAAlc/9AwAhGw4_SY/s64/photo.jpg",
      "userId": "06866825344162825375"
     },
     "user_tz": -330
    },
    "id": "iBW_d6YDICuX",
    "outputId": "ea23c5c6-faf2-494b-c03f-4e6d1effbe62"
   },
   "outputs": [
    {
     "name": "stdout",
     "output_type": "stream",
     "text": [
      "5520/5520 [==============================] - 2s 366us/step\n"
     ]
    },
    {
     "data": {
      "text/plain": [
       "[0.024226388681015214, 0.9943840633267942]"
      ]
     },
     "execution_count": 71,
     "metadata": {
      "tags": []
     },
     "output_type": "execute_result"
    }
   ],
   "source": [
    "model1.evaluate(X_test, Y_test, batch_size = 400, verbose =1)"
   ]
  },
  {
   "cell_type": "code",
   "execution_count": 72,
   "metadata": {
    "colab": {
     "base_uri": "https://localhost:8080/",
     "height": 35
    },
    "colab_type": "code",
    "executionInfo": {
     "elapsed": 1442,
     "status": "ok",
     "timestamp": 1545133446313,
     "user": {
      "displayName": "Vatsalya Chaubey",
      "photoUrl": "https://lh5.googleusercontent.com/-LS1VhRp_Z90/AAAAAAAAAAI/AAAAAAAAAlc/9AwAhGw4_SY/s64/photo.jpg",
      "userId": "06866825344162825375"
     },
     "user_tz": -330
    },
    "id": "la8F1wqxIMFz",
    "outputId": "43a4307a-aaef-4d98-8aaa-5a3d3c1ba065"
   },
   "outputs": [
    {
     "data": {
      "text/plain": [
       "['loss', 'acc']"
      ]
     },
     "execution_count": 72,
     "metadata": {
      "tags": []
     },
     "output_type": "execute_result"
    }
   ],
   "source": [
    "model1.metrics_names"
   ]
  },
  {
   "cell_type": "code",
   "execution_count": 0,
   "metadata": {
    "colab": {},
    "colab_type": "code",
    "id": "nvb1_O5wIU6a"
   },
   "outputs": [],
   "source": []
  }
 ],
 "metadata": {
  "accelerator": "GPU",
  "colab": {
   "collapsed_sections": [],
   "name": "Hindi Handwritten Digits.ipynb",
   "provenance": [],
   "version": "0.3.2"
  },
  "kernelspec": {
   "display_name": "Python 3",
   "language": "python",
   "name": "python3"
  },
  "language_info": {
   "codemirror_mode": {
    "name": "ipython",
    "version": 2
   },
   "file_extension": ".py",
   "mimetype": "text/x-python",
   "name": "python",
   "nbconvert_exporter": "python",
   "pygments_lexer": "ipython2",
   "version": "2.7.15rc1"
  }
 },
 "nbformat": 4,
 "nbformat_minor": 1
}
